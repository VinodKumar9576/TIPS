{
  "nbformat": 4,
  "nbformat_minor": 0,
  "metadata": {
    "colab": {
      "name": "Conf. Inter. 22/04.ipynb",
      "provenance": [],
      "collapsed_sections": [],
      "authorship_tag": "ABX9TyPziSjYyE/2ER+9DeWrY/2I"
    },
    "kernelspec": {
      "name": "python3",
      "display_name": "Python 3"
    }
  },
  "cells": [
    {
      "cell_type": "markdown",
      "metadata": {
        "id": "-dECboIVblHq",
        "colab_type": "text",
        "badge": true,
        "repo_name": "VinodKumar9576/TIPS",
        "branch": "master",
        "nb_path": "Tips/Conf. Inter. 22 04.ipynb",
        "comment": "This badge cell was added by colab-badge-action"
      },
      "source": [
        "<a href=\"https://colab.research.google.com/github/VinodKumar9576/TIPS/blob/master/Tips/Conf. Inter. 22 04.ipynb\" target=\"_parent\"><img src=\"https://colab.research.google.com/assets/colab-badge.svg\" alt=\"Open In Colab\"/></a>"
      ]
    },
    {
      "cell_type": "markdown",
      "metadata": {
        "id": "_c_x_nI9o-9C",
        "colab_type": "text"
      },
      "source": [
        "**Confidence Interval**"
      ]
    },
    {
      "cell_type": "markdown",
      "metadata": {
        "id": "4ymuXvDhpDoK",
        "colab_type": "text"
      },
      "source": [
        "#C.I, given the underlying distribution"
      ]
    },
    {
      "cell_type": "markdown",
      "metadata": {
        "id": "cZjQ-4pApMN8",
        "colab_type": "text"
      },
      "source": [
        "#C.I for mean(\u03bc) of a (normal) R.V\n",
        "* when std(\u03c3) is known"
      ]
    },
    {
      "cell_type": "markdown",
      "metadata": {
        "id": "fTLzpZt0pqqN",
        "colab_type": "text"
      },
      "source": [
        "* when std(\u03c3) is unknown "
      ]
    },
    {
      "cell_type": "markdown",
      "metadata": {
        "id": "qcVugEwPpxj-",
        "colab_type": "text"
      },
      "source": [
        "#C.I using Empherical bootstrap"
      ]
    },
    {
      "cell_type": "code",
      "metadata": {
        "id": "z3JC49HhxlHX",
        "colab_type": "code",
        "colab": {}
      },
      "source": [
        ""
      ],
      "execution_count": null,
      "outputs": []
    }
  ]
}