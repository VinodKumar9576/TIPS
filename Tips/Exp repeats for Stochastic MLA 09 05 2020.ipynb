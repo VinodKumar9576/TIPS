{
  "nbformat": 4,
  "nbformat_minor": 0,
  "metadata": {
    "colab": {
      "name": "Exp repeats for Stochastic MLA 09/05/2020.ipynb",
      "provenance": [],
      "collapsed_sections": [],
      "authorship_tag": "ABX9TyO3Lr3t69kcZgsRWX/mdpaT"
    },
    "kernelspec": {
      "name": "python3",
      "display_name": "Python 3"
    }
  },
  "cells": [
    {
      "cell_type": "markdown",
      "metadata": {
        "id": "5EnpH_mGcHn9",
        "colab_type": "text",
        "badge": true,
        "repo_name": "VinodKumar9576/TIPS",
        "branch": "master",
        "nb_path": "Tips/Exp repeats for Stochastic MLA 09 05 2020.ipynb",
        "comment": "This badge cell was added by colab-badge-action"
      },
      "source": [
        "<a href=\"https://colab.research.google.com/github/VinodKumar9576/TIPS/blob/master/Tips/Exp repeats for Stochastic MLA 09 05 2020.ipynb\" target=\"_parent\"><img src=\"https://colab.research.google.com/assets/colab-badge.svg\" alt=\"Open In Colab\"/></a>"
      ]
    },
    {
      "cell_type": "markdown",
      "metadata": {
        "id": "u5uOVu3MSQGz",
        "colab_type": "text"
      },
      "source": [
        "**<h1>Estimate the number of Experiment Repeats for Stochastic Machine Learning Algorithms**"
      ]
    },
    {
      "cell_type": "markdown",
      "metadata": {
        "id": "eLOD0TPrXRF5",
        "colab_type": "text"
      },
      "source": [
        "* Problem with many stochastic machine learning algorithms is that different runs of the same algorithm on the same data return ***different results***.\n",
        "* This mean that when performing experiments to configure stochastic algorithm or compare algorithms, you must collect multiple results and use the average performance to summarize the skill of the model.\n",
        "* Now question is how many repeats of an experiment are enough to sufficiently characterize the skill of stochastic machine learning algo.\n",
        "* Commonly used repeats is 30 or more, even 100."
      ]
    },
    {
      "cell_type": "markdown",
      "metadata": {
        "id": "YG0SUUCYZLg1",
        "colab_type": "text"
      },
      "source": [
        "Down the post we'll look into:\n",
        "* Generate the Data\n",
        "* Basic Analysis\n",
        "* Impact of number of repeats\n",
        "* Calculate Standard Error"
      ]
    },
    {
      "cell_type": "markdown",
      "metadata": {
        "id": "zsUmmQ-4ZgqA",
        "colab_type": "text"
      },
      "source": [
        "**<h2>1. Generate Data**"
      ]
    },
    {
      "cell_type": "markdown",
      "metadata": {
        "id": "RcdSc-CrZvYn",
        "colab_type": "text"
      },
      "source": [
        "* "
      ]
    },
    {
      "cell_type": "code",
      "metadata": {
        "id": "mhaJplSeCuoj",
        "colab_type": "code",
        "colab": {}
      },
      "source": [
        ""
      ],
      "execution_count": null,
      "outputs": []
    }
  ]
}