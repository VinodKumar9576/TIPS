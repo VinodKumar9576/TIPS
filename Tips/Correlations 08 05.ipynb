{
  "nbformat": 4,
  "nbformat_minor": 0,
  "metadata": {
    "colab": {
      "name": "Correlations 08/05.ipynb",
      "provenance": [],
      "collapsed_sections": [],
      "authorship_tag": "ABX9TyMmhhVtaCmu8Xf5I3x0y6Up"
    },
    "kernelspec": {
      "name": "python3",
      "display_name": "Python 3"
    }
  },
  "cells": [
    {
      "cell_type": "markdown",
      "metadata": {
        "id": "l5LZIKrCbp5S",
        "colab_type": "text",
        "badge": true,
        "repo_name": "VinodKumar9576/TIPS",
        "branch": "master",
        "nb_path": "Tips/Correlations 08 05.ipynb",
        "comment": "This badge cell was added by colab-badge-action"
      },
      "source": [
        "<a href=\"https://colab.research.google.com/github/VinodKumar9576/TIPS/blob/master/Tips/Correlations 08 05.ipynb\" target=\"_parent\"><img src=\"https://colab.research.google.com/assets/colab-badge.svg\" alt=\"Open In Colab\"/></a>"
      ]
    },
    {
      "cell_type": "markdown",
      "metadata": {
        "id": "hNRhue_FbJtB",
        "colab_type": "text"
      },
      "source": [
        "You can refer the original post in the below link<br>\n",
        "https://machinelearningmastery.com/how-to-use-correlation-to-understand-the-relationship-between-variables/"
      ]
    },
    {
      "cell_type": "markdown",
      "metadata": {
        "id": "iNJ_O6DSdVKG",
        "colab_type": "text"
      },
      "source": [
        "**Introduction**"
      ]
    },
    {
      "cell_type": "markdown",
      "metadata": {
        "id": "IO2xi5UybRRL",
        "colab_type": "text"
      },
      "source": [
        "* There may be complex and unknown relationships between the features in the dataset.\n",
        "* It is most important to quantify these relations and find which features are dependent upon each other.\n",
        "* With the presence of these features algorithms like ***linear regression's*** performance will degrade."
      ]
    },
    {
      "cell_type": "markdown",
      "metadata": {
        "id": "U8XgI31odaPN",
        "colab_type": "text"
      },
      "source": [
        "**What is Correlation?**"
      ]
    },
    {
      "cell_type": "markdown",
      "metadata": {
        "id": "RHjWo3H1dgAW",
        "colab_type": "text"
      },
      "source": [
        "* Features will be realated to one another for many reasons.\n",
        "  * One feature could cause another feature.\n",
        "  * One feature could depend on values of another feature.\n",
        "  * One could be lightly associated with another feature.\n",
        "  * Two features could depend on third unknown feature.\n",
        "* The statistical relation between two variables is called ***correlation***.\n",
        "* `Corr` can be +ve, -ve, 0.\n",
        "  * **+ve** - Higly correlated.\n",
        "  * **-ve** - Very less related\n",
        "  * **0** - Not related at all\n",
        "* Performance of algo degrade when two or more features are tightly correlated **(Multicollinearity)**.\n",
        "* In order to improve the skill of the model, example for linear regression, one of the offending correlated features **should be removed**.\n",
        "* The structure of the relationship b/w features can be **linear** or can be any structure. If the plot is completely scatter then there are more chances of -ve correlation.\n",
        "* Based on the relationship and the distribution of features, different correlation scores can be calculated."
      ]
    },
    {
      "cell_type": "markdown",
      "metadata": {
        "id": "si4kuI-QkYzD",
        "colab_type": "text"
      },
      "source": [
        "**Dataset**"
      ]
    },
    {
      "cell_type": "markdown",
      "metadata": {
        "id": "sHTWg2T2kiap",
        "colab_type": "text"
      },
      "source": [
        "* In this post, we'll look at 3 kinds of data\n",
        "  * Data having Gaussian distribution\n",
        "  * Data having Linear relationship\n",
        "  * Data that doesn't asume any distribution but will have any monotonic (inc/dec) relation."
      ]
    },
    {
      "cell_type": "markdown",
      "metadata": {
        "id": "uZWqSPOBl0WE",
        "colab_type": "text"
      },
      "source": [
        "* 1000 samples of two variables with strong correlation.\n",
        "* **First feature** : random numbers drawn from a Gaussian distribution with $\\mu$=100 and $\\sigma$ = 20.\n",
        "* **Second feature** : values drawn from first variable with Gaussian noise added with $\\mu$ = 50 and $\\sigma$ = 10."
      ]
    },
    {
      "cell_type": "code",
      "metadata": {
        "id": "FXVLnD7IpHhL",
        "colab_type": "code",
        "colab": {
          "base_uri": "https://localhost:8080/",
          "height": 299
        },
        "executionInfo": {
          "status": "ok",
          "timestamp": 1588881173613,
          "user_tz": -330,
          "elapsed": 1472,
          "user": {
            "displayName": "ml learning",
            "photoUrl": "",
            "userId": "11852164450280049527"
          }
        },
        "outputId": "76152940-2407-4804-d205-ce1dccdf6ede"
      },
      "source": [
        "import numpy as np\n",
        "from numpy.random import randn\n",
        "from numpy.random import seed\n",
        "import seaborn as sns\n",
        "import matplotlib.pyplot as plt\n",
        "seed(1)\n",
        "\n",
        "#data preparation\n",
        "data1 = 20*randn(1000) + 100\n",
        "data2 = data1 + (10*randn(1000)+50)\n",
        "\n",
        "#summarize\n",
        "print(f'data1 : mean = {round(np.mean(data1),3)} std = {round(np.std(data1),3)}')\n",
        "print(f'data2 : mean = {round(np.mean(data2),3)} std = {round(np.std(data2),3)}')\n",
        "\n",
        "#plotting\n",
        "sns.scatterplot(x=data1, y=data2)\n",
        "plt.show()"
      ],
      "execution_count": null,
      "outputs": [
        {
          "output_type": "stream",
          "text": [
            "data1 : mean = 100.776 std = 19.62\n",
            "data2 : mean = 151.05 std = 22.358\n"
          ],
          "name": "stdout"
        },
        {
          "output_type": "display_data",
          "data": {
            "image/png": "[encoded data removed]",
            "text/plain": [
              "<Figure size 432x288 with 1 Axes>"
            ]
          },
          "metadata": {
            "tags": [],
            "needs_background": "light"
          }
        }
      ]
    },
    {
      "cell_type": "markdown",
      "metadata": {
        "id": "wRBu4y7L5HeY",
        "colab_type": "text"
      },
      "source": [
        "**CoVariance**"
      ]
    },
    {
      "cell_type": "markdown",
      "metadata": {
        "id": "T0t2ABz95zxz",
        "colab_type": "text"
      },
      "source": [
        "* The relationshipm b/w two variables can be summarized using **CoVariance**.\n",
        "  \n",
        "> **cov(X, Y) = $\\frac{1}{(n-1)}$  $\\sum$(x-$\\mu$(X))  (y-$\\mu$(Y))**\n",
        "\n",
        "* Having mean($\\mu$) in covariance says that each data sample to have Gaussian or Gaussian like distribution.\n",
        "* **+ve** cov : both variables change in same direction.\n",
        "* **-ve** cov : opposite direction.\n",
        "* **0** cov : Variables are independent.\n",
        "* Magnitude is hard to interpret.\n",
        "* The diagonal of the calculated covariance matrix contains cov b/w each var and itself."
      ]
    },
    {
      "cell_type": "code",
      "metadata": {
        "id": "opjylYzArE6M",
        "colab_type": "code",
        "colab": {
          "base_uri": "https://localhost:8080/",
          "height": 51
        },
        "executionInfo": {
          "status": "ok",
          "timestamp": 1588919098189,
          "user_tz": -330,
          "elapsed": 773,
          "user": {
            "displayName": "ml learning",
            "photoUrl": "",
            "userId": "11852164450280049527"
          }
        },
        "outputId": "965b07a9-e542-47cc-85b7-6ebdb845f41d"
      },
      "source": [
        "from numpy.random import randn\n",
        "from numpy.random import seed\n",
        "from numpy import cov\n",
        "seed(1)\n",
        "\n",
        "data1 = 20*randn(1000)+100\n",
        "data2 = data1 + (10*randn(1000)+50)\n",
        "\n",
        "covariance = cov(data1,data2)\n",
        "print(covariance)"
      ],
      "execution_count": null,
      "outputs": [
        {
          "output_type": "stream",
          "text": [
            "[[385.33297729 389.7545618 ]\n",
            " [389.7545618  500.38006058]]\n"
          ],
          "name": "stdout"
        }
      ]
    },
    {
      "cell_type": "markdown",
      "metadata": {
        "id": "ZkI6x5_-9yP-",
        "colab_type": "text"
      },
      "source": [
        "* Covariance is used widely in statistics and multivariate analysis to know the relationships b/w two or more variables.\n",
        "* Only drawback with covariance is, it's hard to interpret. This lead to the Pearson's correlation coefficient."
      ]
    },
    {
      "cell_type": "markdown",
      "metadata": {
        "id": "gVEpcuT5-TyI",
        "colab_type": "text"
      },
      "source": [
        "**Pearson's Correlation**"
      ]
    },
    {
      "cell_type": "markdown",
      "metadata": {
        "id": "hvarCotE-Zgf",
        "colab_type": "text"
      },
      "source": [
        "* Used to summarize the strength of **linear relationship** b/w two data samples.\n",
        "* Is the covariance of two variables divided by product of std.\n",
        "* It is the normalization of the covariance between two variables.\n",
        "> **Pearson's corr = $\\frac{cov(X,Y)}{\\sigma(X)\\;*\\;\\sigma(Y)}$**\n",
        "* $\\sigma, \\mu$ in above equation suggests that two data samples to have Gaussian or Gaussian-like distribution.\n",
        "* Coefficient returns value in range [-1,1].\n",
        "* Value 0 represents no correlation at all.\n",
        "* Value < -0.5 or above 0.5 - notable correlation and below those denotes less correlation.\n",
        "<br>\n",
        "\n",
        "* Calculated using scipy.stats pearsonr\n",
        "* above returns ***corr*** as well as ***p-value*** whose null hypothesis is that two sets of data aer uncorrelated."
      ]
    },
    {
      "cell_type": "code",
      "metadata": {
        "id": "E9sWUS9G9VdL",
        "colab_type": "code",
        "colab": {
          "base_uri": "https://localhost:8080/",
          "height": 51
        },
        "executionInfo": {
          "status": "ok",
          "timestamp": 1588921763081,
          "user_tz": -330,
          "elapsed": 919,
          "user": {
            "displayName": "ml learning",
            "photoUrl": "",
            "userId": "11852164450280049527"
          }
        },
        "outputId": "e5dab6ae-cd74-4c59-fe1b-f6bd6c0f278e"
      },
      "source": [
        "import numpy as np\n",
        "from numpy.random import randn\n",
        "from numpy.random import seed\n",
        "from scipy.stats import pearsonr\n",
        "seed(1)\n",
        "\n",
        "#data preparation\n",
        "data1 = 20*randn(1000) + 100\n",
        "data2 = data1 + (10*randn(1000)+50)\n",
        "\n",
        "#correlation\n",
        "corr, p_val = pearsonr(data1, data2)\n",
        "print('Pearsons correaltion : %.3f'%corr)\n",
        "print('p-value: ', p_val)"
      ],
      "execution_count": null,
      "outputs": [
        {
          "output_type": "stream",
          "text": [
            "Pearsons correaltion : 0.888\n",
            "p-value:  0.0\n"
          ],
          "name": "stdout"
        }
      ]
    },
    {
      "cell_type": "markdown",
      "metadata": {
        "id": "QrwrAVTfBT8n",
        "colab_type": "text"
      },
      "source": [
        "* We can see from above two variables are positively correlated with magnitude 0.8 which suggests a high correlation."
      ]
    },
    {
      "cell_type": "markdown",
      "metadata": {
        "id": "q80R3HcdBjT9",
        "colab_type": "text"
      },
      "source": [
        "**Spearman's Correlation**"
      ]
    },
    {
      "cell_type": "markdown",
      "metadata": {
        "id": "tZ6t8to-Bmlf",
        "colab_type": "text"
      },
      "source": [
        "* Used when two variables are related by **non-linear relationship**, such that the relationship is stronger or weaker across the distribution of the variables.\n",
        "* Also two variables taken into account may not have Gaussian distribution.\n",
        "* This can also be used, if the variables have **linear relationship** but end up with lower coefficient scores.\n",
        "* Range of values : [-1, 1]\n",
        "* In above two approaches, we calculated covariance, standard deviation on the samples themselves but in Spearman's corr these are calculated from **relative rank** of values on each sample.\n",
        "* Approach said in above point is common in non-parametric statistics eg: statistical methods where we do not assume a distribution of the data such as Gaussian.\n",
        "> **Spearman's corr = $\\frac{cov(rank(X),\\;rank(Y))}{\\sigma(rank(X))\\;*\\;\\sigma(rank(Y))}$**\n",
        "* A linear relation b/w variables is not assumed, although a monotonic realtionship is assumed.\n",
        "* If we are unsure of ditribution and possible relationships b/w two variables, Spearman's corr is good one to use.\n",
        "<br>\n",
        "\n",
        "* Calculated using scipy.stats spearmanr\n",
        "* above returns ***corr*** as well as ***p-value*** whose null hypothesis is that two sets of data aer uncorrelated."
      ]
    },
    {
      "cell_type": "code",
      "metadata": {
        "id": "srPto7qOBSB0",
        "colab_type": "code",
        "colab": {
          "base_uri": "https://localhost:8080/",
          "height": 51
        },
        "executionInfo": {
          "status": "ok",
          "timestamp": 1588921755125,
          "user_tz": -330,
          "elapsed": 856,
          "user": {
            "displayName": "ml learning",
            "photoUrl": "",
            "userId": "11852164450280049527"
          }
        },
        "outputId": "fd7e8f3d-0d4b-4abe-edff-7ddcca2e97bc"
      },
      "source": [
        "from numpy.random import randn\n",
        "from numpy.random import seed\n",
        "from scipy.stats import spearmanr\n",
        "seed(1)\n",
        "\n",
        "data1 = 20*randn(1000)+100\n",
        "data2 = data1+(10*randn(1000)+50)\n",
        "\n",
        "#correlation\n",
        "corr, p_val = spearmanr(data1, data2)\n",
        "print('Spearmans correlation : %0.3f' %corr)\n",
        "print('p-value: ', p_val)"
      ],
      "execution_count": null,
      "outputs": [
        {
          "output_type": "stream",
          "text": [
            "Spearmans correlation : 0.872\n",
            "p-value:  1.58425746359e-312\n"
          ],
          "name": "stdout"
        }
      ]
    }
  ]
}